{
  "nbformat": 4,
  "nbformat_minor": 0,
  "metadata": {
    "kernelspec": {
      "display_name": "Python 3",
      "language": "python",
      "name": "python3"
    },
    "language_info": {
      "codemirror_mode": {
        "name": "ipython",
        "version": 3
      },
      "file_extension": ".py",
      "mimetype": "text/x-python",
      "name": "python",
      "nbconvert_exporter": "python",
      "pygments_lexer": "ipython3",
      "version": "3.6.4"
    },
    "colab": {
      "name": "aula5_tartarugas.ipynb",
      "provenance": [],
      "collapsed_sections": [],
      "include_colab_link": true
    }
  },
  "cells": [
    {
      "cell_type": "markdown",
      "metadata": {
        "id": "view-in-github",
        "colab_type": "text"
      },
      "source": [
        "<a href=\"https://colab.research.google.com/github/malbouis/Python_intro/blob/master/aulas/aula5_tartarugas.ipynb\" target=\"_parent\"><img src=\"https://colab.research.google.com/assets/colab-badge.svg\" alt=\"Open In Colab\"/></a>"
      ]
    },
    {
      "cell_type": "markdown",
      "metadata": {
        "id": "aWqaS17IKyX4"
      },
      "source": [
        "# Tartarugas!\n",
        "\n",
        "AVISO: essa aula foi feita em sua quase totalidade como tradução do capítulo 3 do livro texto: http://openbookproject.net/thinkcs/python/english3e/index.html\n",
        "\n",
        "Referência: http://greenteapress.com/thinkpython2/html/thinkpython2005.html#sec42"
      ]
    },
    {
      "cell_type": "markdown",
      "metadata": {
        "id": "QRczpCqhKyX5"
      },
      "source": [
        "Existem **muitos** módulos em Python que fornecem recursos muito poderosos que podemos usar. \n",
        "   * Alguns enviam e-mails ou buscam páginas da web;\n",
        "   * outros fazem histogramas\n",
        "   * ou cálculo matricial\n",
        "   * ou gráficos\n",
        "   * ou até mesmo jogos, entre vários outros.\n",
        "   \n",
        "O módulo que veremos neste capítulo nos permite criar **tartarugas** e fazê-las desenhar formas e padrões.\n",
        "\n",
        "A maior parte da linguagem de Python aqui abordada será explorada com mais profundidade posteriormente."
      ]
    },
    {
      "cell_type": "markdown",
      "metadata": {
        "id": "q0qIvsWmKyX6"
      },
      "source": [
        "## Nosso primeiro programa de tartaruga\n",
        "\n",
        "Criaremos em Python uma _tartaruga_ e vamos **desenhar um retângulo**. \n",
        "\n",
        "Nossa tartaruguinha se chamará joana.\n",
        "\n",
        "**Observação:**\n",
        "\n",
        "* Originalmente em Python, o módulo de tartarugas se chama ```turtle```: https://docs.python.org/3/library/turtle.html].\n",
        "\n",
        "* Para usá-lo no Colab, há um módulo específico, que é uma adaptação da classe ```Turtle``` para o Colab: https://github.com/tolgaatam/ColabTurtle/blob/master/ColabTurtle/Turtle.py\n",
        "\n",
        "* Também podemos criar o código em Python que usa o módulo Turtle, diretamente através do [trinket](https://trinket.io/turtle).\n",
        "\n",
        "Faremos os próximos exemplos usando o módulo ColabTurtle e mostraremos um exemplo no âmbito do trinket no final."
      ]
    },
    {
      "cell_type": "code",
      "metadata": {
        "id": "pNr_5Ik2LUGY",
        "colab": {
          "base_uri": "https://localhost:8080/"
        },
        "outputId": "8368d12c-6fc3-4542-ed78-b22a93b574c7"
      },
      "source": [
        "# declarações para instalar e importar o módulo Turtle no ambiente do Google Colab\n",
        "!pip3 install ColabTurtle\n",
        "from ColabTurtle import Turtle"
      ],
      "execution_count": 6,
      "outputs": [
        {
          "output_type": "stream",
          "text": [
            "Requirement already satisfied: ColabTurtle in /usr/local/lib/python3.7/dist-packages (2.1.0)\n"
          ],
          "name": "stdout"
        }
      ]
    },
    {
      "cell_type": "code",
      "metadata": {
        "id": "GjI31DhOKyX7",
        "colab": {
          "base_uri": "https://localhost:8080/",
          "height": 520
        },
        "outputId": "5a269929-948f-4bef-80e9-d94d4096b976"
      },
      "source": [
        "joana = ColabTurtle.Turtle # Cria uma tartaruga, atribui a joana\n",
        "joana.initializeTurtle()   # inicialização. Necessária toda vez que uma nova tartaruga for criada. Determina os valores padrão.\n",
        "joana.forward(150)          # diz para joana andar para frente por 150 unidades\n",
        "joana.left(90)             # diz para joana virar de 90 graus\n",
        "joana.forward(130)          # Completa o segundo lado do retângulo"
      ],
      "execution_count": 9,
      "outputs": [
        {
          "output_type": "display_data",
          "data": {
            "text/html": [
              "\n",
              "      <svg width=\"800\" height=\"500\">\n",
              "        <rect width=\"100%\" height=\"100%\" fill=\"black\"/>\n",
              "        <line x1=\"400\" y1=\"250\" x2=\"400.0\" y2=\"100.0\" stroke-linecap=\"round\" style=\"stroke:white;stroke-width:4\"/><line x1=\"400.0\" y1=\"100.0\" x2=\"270.0\" y2=\"100.0\" stroke-linecap=\"round\" style=\"stroke:white;stroke-width:4\"/>\n",
              "        <g visibility=visible transform=\"rotate(270,270.0,100.0) translate(252.0, 82.0)\">\n",
              "<path style=\" stroke:none;fill-rule:evenodd;fill:white;fill-opacity:1;\" d=\"M 18.214844 0.632812 C 16.109375 1.800781 15.011719 4.074219 15.074219 7.132812 L 15.085938 7.652344 L 14.785156 7.496094 C 13.476562 6.824219 11.957031 6.671875 10.40625 7.066406 C 8.46875 7.550781 6.515625 9.15625 4.394531 11.992188 C 3.0625 13.777344 2.679688 14.636719 3.042969 15.027344 L 3.15625 15.152344 L 3.519531 15.152344 C 4.238281 15.152344 4.828125 14.886719 8.1875 13.039062 C 9.386719 12.378906 10.371094 11.839844 10.378906 11.839844 C 10.386719 11.839844 10.355469 11.929688 10.304688 12.035156 C 9.832031 13.09375 9.257812 14.820312 8.96875 16.078125 C 7.914062 20.652344 8.617188 24.53125 11.070312 27.660156 C 11.351562 28.015625 11.363281 27.914062 10.972656 28.382812 C 8.925781 30.84375 7.945312 33.28125 8.238281 35.1875 C 8.289062 35.527344 8.28125 35.523438 8.917969 35.523438 C 10.941406 35.523438 13.074219 34.207031 15.136719 31.6875 C 15.359375 31.417969 15.328125 31.425781 15.5625 31.574219 C 16.292969 32.042969 18.023438 32.964844 18.175781 32.964844 C 18.335938 32.964844 19.941406 32.210938 20.828125 31.71875 C 20.996094 31.625 21.136719 31.554688 21.136719 31.558594 C 21.203125 31.664062 21.898438 32.414062 22.222656 32.730469 C 23.835938 34.300781 25.5625 35.132812 27.582031 35.300781 C 27.90625 35.328125 27.9375 35.308594 28.007812 34.984375 C 28.382812 33.242188 27.625 30.925781 25.863281 28.425781 L 25.542969 27.96875 L 25.699219 27.785156 C 28.945312 23.960938 29.132812 18.699219 26.257812 11.96875 L 26.207031 11.84375 L 27.945312 12.703125 C 31.53125 14.476562 32.316406 14.800781 33.03125 14.800781 C 33.976562 14.800781 33.78125 13.9375 32.472656 12.292969 C 28.519531 7.355469 25.394531 5.925781 21.921875 7.472656 L 21.558594 7.636719 L 21.578125 7.542969 C 21.699219 6.992188 21.761719 5.742188 21.699219 5.164062 C 21.496094 3.296875 20.664062 1.964844 19.003906 0.855469 C 18.480469 0.503906 18.457031 0.5 18.214844 0.632812\"/>\n",
              "</g>\n",
              "      </svg>\n",
              "    "
            ],
            "text/plain": [
              "<IPython.core.display.HTML object>"
            ]
          },
          "metadata": {
            "tags": []
          }
        }
      ]
    },
    {
      "cell_type": "code",
      "metadata": {
        "colab": {
          "base_uri": "https://localhost:8080/"
        },
        "id": "KXotlKML4Dha",
        "outputId": "08f2b400-504c-4d0c-fb18-93a3938c58a3"
      },
      "source": [
        "type(joana)"
      ],
      "execution_count": 10,
      "outputs": [
        {
          "output_type": "execute_result",
          "data": {
            "text/plain": [
              "module"
            ]
          },
          "metadata": {
            "tags": []
          },
          "execution_count": 10
        }
      ]
    },
    {
      "cell_type": "markdown",
      "metadata": {
        "id": "EVQJgTuiKyYA"
      },
      "source": [
        "O que acontece ao rodar o programa acima?"
      ]
    },
    {
      "cell_type": "markdown",
      "metadata": {
        "id": "Vtx-nOEdKyYC"
      },
      "source": [
        "### Observações sobre o código acima\n",
        "\n",
        "* ***import ColabTurtle***: carregar um módulo chamado tartaruga. \n",
        "   * Esse módulo nos traz um novo **tipo** que podemos usar: **o tipo ColabTurtle**. \n",
        "   * A notação de ponto ***ColabTurtle.Turtle*** significa “O tipo de tartaruga que é definido dentro do módulo de tartaruga”.\n",
        "\n",
        "\n",
        "* ***joana = ColabTurtle.Turtle()***: cria uma tartaruga. A variável ****joana*** é declarada para se referir a esta tartaruga.\n",
        "\n",
        "* ***joana.initializeTurtle()***: método que constrói e inicializa todas as variáveis necessárias quando criamos uma tartaruga (o objeto tartaruga, do tipo ColabTurtle), como posição inicial, orientação da seta...\n",
        "\n",
        "* Essas três primeiras linhas se encarregaram das **definições**. Estamos prontos para fazer com que nossa tartaruga desenhe na tela.\n",
        "\n",
        "\n",
        "* **Invocar ou ativar os métodos do objeto joana**: fazer joana se mover e a girar. \n",
        "   * joana.forward(50)\n",
        "   * joana.left(90) \n",
        "\n",
        "\n",
        "* **Um objeto pode ter vários métodos** - coisas que ele pode fazer - **e também pode ter atributos**  \n",
        "   * cada tartaruga tem um atributo de **cor**: A invocação do método ```joana.color (\"red\")``` tornará joana vermelha (red) e o desenho será vermelho também.\n",
        "\n",
        "* **Estado** atual da tartaruga: é o **conjunto de atributos atuais**, e também posição, rotação, etc, ...\n",
        "\n",
        "* Existe um grande número de **métodos que nos permitem modificar a tartaruga**. \n",
        "\n"
      ]
    },
    {
      "cell_type": "code",
      "metadata": {
        "id": "CPtIqm_gKyYD"
      },
      "source": [
        "teca = ColabTurtle.Turtle # Cria uma tartaruga, atribui a teca\n",
        "teca.initializeTurtle()\n",
        "teca.color(\"blue\")            # o método color diz à Teca para mudar sua cor (atributo)\n",
        "teca.width(3)               # o método width faz Teca ajustar a largura da caneta (atributo)\n",
        "\n",
        "teca.forward(50)\n",
        "teca.left(120)\n",
        "teca.forward(50)"
      ],
      "execution_count": null,
      "outputs": []
    },
    {
      "cell_type": "markdown",
      "metadata": {
        "id": "CHBmuB4BKyYI"
      },
      "source": [
        "## Instâncias - uma manada de tartarugas\n",
        "\n",
        "Assim como podemos ter muitos inteiros diferentes em um programa, podemos ter muitas tartarugas. \n",
        "\n",
        "* **Cada tartaruga é chamada de uma *instância*** . \n",
        "   * Cada instância tem seus próprios **atributos** e **métodos**"
      ]
    },
    {
      "cell_type": "code",
      "metadata": {
        "id": "923t3tgbKyYJ"
      },
      "source": [
        "teca = ColabTurtle.Turtle      # Criar a instância Teca\n",
        "teca.initializeTurtle()        # configurar os atributos de Teca\n",
        "teca.color(\"yellow\")\n",
        "teca.width(5)\n",
        "#teca.window_size = (400,250)\n",
        "\n",
        "# Fazer Teca desenhar um triângulo equilátero:\n",
        "teca.forward(80)             \n",
        "teca.left(120)\n",
        "teca.forward(80)\n",
        "teca.left(120)\n",
        "teca.forward(80)\n",
        "teca.left(120)               # Completar o triângulo\n",
        "\n",
        "teca.right(180)              # Fazer Teca dar meia volta\n",
        "teca.forward(80)             # Movê-la para longe da origem\n",
        "\n",
        "# Criar uma nova instância de Tartaruga:\n",
        "joana = ColabTurtle.Turtle\n",
        "joana.initializeTurtle()     # configurar os atributos de Joana\n",
        "joana.color('purple')        # Mudar os atributos de Joana\n",
        "\n",
        "# Fazer Joana desenhar um quadrado:\n",
        "joana.forward(50)            \n",
        "joana.left(90)\n",
        "joana.forward(50)\n",
        "joana.left(90)\n",
        "joana.forward(50)\n",
        "joana.left(90)\n",
        "joana.forward(50)\n",
        "joana.left(90)"
      ],
      "execution_count": null,
      "outputs": []
    },
    {
      "cell_type": "markdown",
      "metadata": {
        "id": "e2iemuZvKyYM"
      },
      "source": [
        "### O que faz o código acima?\n",
        "Tente você mesmo!\n",
        "\n",
        "\n",
        "Ok, duas tartarugas podem não ser suficientes para um rebanho. \n",
        "\n",
        "Mas a ideia importante é que **o módulo de tartaruga nos proporciona uma espécie de fábrica que nos permite criar tantas tartarugas (instâncias) quanto precisamos**. \n",
        "\n",
        "***Cada instância tem seu próprio estado e comportamento.***\n",
        "\n",
        "Se usarmos o módulo original do Python, ```turtle```( no trinket, por exemplo), cada tartaruga é um objeto de Python do tipo Turtle.\n",
        "\n",
        "O exemplo do código acima no trinket, está disponível [aqui](https://trinket.io/turtle/282c9ab28c).\n"
      ]
    },
    {
      "cell_type": "markdown",
      "metadata": {
        "id": "Z8pxPQeEKyYN"
      },
      "source": [
        "\n",
        "## O *loop* for\n",
        "\n",
        "Quando desenhamos o quadrado, tivemos que repetir explicitamente os passos de se mover e girar ***quatro vezes***. Se estivéssemos desenhando um hexágono ou um polígono com 42 lados, teria sido pior.\n",
        "\n",
        "\n",
        "\n",
        "Portanto, um bloco de construção básico de todos os programas é poder **repetir alguns códigos repetidas vezes.**\n",
        "\n",
        "\n",
        "\n",
        "O ***loop*** de Python resolve isso. \n",
        "\n",
        "Digamos que temos alguns amigos e gostaríamos de enviar a eles um e-mail convidando-os para a nossa festa. Ainda não sabemos como enviar e-mails, então, por enquanto, apenas imprimiremos uma mensagem para cada amigo:"
      ]
    },
    {
      "cell_type": "code",
      "metadata": {
        "id": "dcDAUr29KyYN"
      },
      "source": [
        "for f in [\"José\",\"Zoe\",\"Bruno\",\"Angélica\",\"Zacarias\",\"Thandi\",\"Paris\"]:\n",
        "    convite = \"Oi \" + f + \".  Você está convidadx para minha festa no Sábado!\"\n",
        "    print(convite)"
      ],
      "execution_count": null,
      "outputs": []
    },
    {
      "cell_type": "markdown",
      "metadata": {
        "id": "VfHGLMGjKyYU"
      },
      "source": [
        "* A variável ***f*** na instrução for na linha 1 é chamada de **variável de loop**. Pode ser qualquer nome de variável.\n",
        "\n",
        "\n",
        "* As linhas 2 e 3 são o **corpo do loop**. O corpo do loop é sempre ***indentado***. O recuo determina exatamente quais instruções estão “no corpo do loop”.\n",
        "\n",
        "\n",
        "* Em cada **iteração** (ou passagem do loop):\n",
        "   * uma verificação é feita para ver se ainda há mais itens a serem processados. \n",
        "   \n",
        "   * Caso não haja nenhum item a se processado, o loop terminou. Isso é chamado de **condição de terminação do loop**. \n",
        "   \n",
        "   * A execução do programa continua na próxima instrução após o corpo do loop.\n",
        "   \n",
        "   * Se ainda houver itens a serem processados, a variável de loop será atualizada para se referir ao próximo item da lista. Isto significa, neste caso, que o corpo do loop é executado aqui 7 vezes, e cada vez f se referirá a um amigo diferente.\n",
        "   \n",
        "   * No final de cada execução do corpo do loop, o Python retorna à instrução for, para ver se há mais itens a serem manipulados e para atribuir o próximo a f."
      ]
    },
    {
      "cell_type": "markdown",
      "metadata": {
        "id": "ggPSduhtKyYU"
      },
      "source": [
        "## Fluxo de Execução do loop for\n",
        "\n",
        "Conforme um programa é executado, o interpretador sempre registra qual declaração está prestes a ser executada. Chamamos isso de **fluxo de controle**, do **fluxo de execução do programa**.\n",
        "\n",
        "O **fluxo de controle** é geralmente fácil de visualizar e entender se desenharmos um **fluxograma**. Isso mostra as etapas exatas e a lógica de como a instrução ***for*** é executada.\n",
        "\n",
        "![title](https://github.com/malbouis/Python_intro/blob/master/aulas_2019/pics/fluxograma.png?raw=1)"
      ]
    },
    {
      "cell_type": "markdown",
      "metadata": {
        "id": "KdiRCVwWKyYV"
      },
      "source": [
        "## O loop simplifica nosso programa de tartarugas\n",
        "\n",
        "Podemos usar apenas 3 linhas ao invés de oito, para desenhar o quadrado de ***joana***"
      ]
    },
    {
      "cell_type": "code",
      "metadata": {
        "id": "3s4WgBZHKyYW"
      },
      "source": [
        "joana = ColabTurtle.Turtle\n",
        "joana.initializeTurtle()\n",
        "for i in [0,1,2,3]:\n",
        "    joana.forward(50)\n",
        "    joana.left(90)"
      ],
      "execution_count": null,
      "outputs": []
    },
    {
      "cell_type": "markdown",
      "metadata": {
        "id": "rS_8l3dQKyYZ"
      },
      "source": [
        "O importante aqui é **encontrar um padrão de repetição de declarações** e reorganizar o programa levando esses padrões em consideração.\n",
        "\n",
        "\n",
        "Podemos reescrever as linhas acima, usando uma função *built-in* do python, chamada [```range```](https://docs.python.org/3/library/functions.html#func-range). \n",
        "\n",
        "\n",
        "Em python, começamos toda indexação em 0 (zero)."
      ]
    },
    {
      "cell_type": "code",
      "metadata": {
        "id": "dnSY8Q5kKyYa"
      },
      "source": [
        "joana = ColabTurtle.Turtle\n",
        "joana.initializeTurtle()\n",
        "for i in range(4):\n",
        "    joana.forward(50)\n",
        "    joana.left(90)"
      ],
      "execution_count": null,
      "outputs": []
    },
    {
      "cell_type": "markdown",
      "metadata": {
        "id": "dRnIYqn5KyYe"
      },
      "source": [
        "#### Caso queira desenhar cada lado do quadrado com uma cor:"
      ]
    },
    {
      "cell_type": "code",
      "metadata": {
        "id": "FSjncN6xKyYf"
      },
      "source": [
        "joana = ColabTurtle.Turtle\n",
        "joana.initializeTurtle()\n",
        "cores = [\"yellow\", \"red\", \"purple\", \"blue\"] # VALID_COLORS = ('white', 'yellow', 'orange', 'red', 'green', 'blue', 'purple', 'grey', 'black')\n",
        "for i in cores:\n",
        "    joana.color(i)\n",
        "    joana.forward(50)\n",
        "    joana.left(90)"
      ],
      "execution_count": null,
      "outputs": []
    },
    {
      "cell_type": "markdown",
      "metadata": {
        "id": "ED-KXBaRKyYi"
      },
      "source": [
        "### Exercícios:\n",
        "1. [**Não é possível fazer no Google Colab. Pule para o exercício 2**] Modifique o programa da tartaruga (primeiro exemplo) para que, antes de criar a janela, ele solicite que o usuário insira a cor de fundo desejada. Ele deve armazenar as respostas do usuário em uma variável e modificar a cor da janela de acordo com os desejos do usuário. \n",
        "   * ***Dicas***: faça uso da função ***input***, built-in do python\n",
        "   * você pode encontrar uma lista de nomes de cores permitidos em http://www.tcl.tk/man/tcl8.4/TkCmd/colors.htm. Inclui alguns bem incomuns, como “peach puff” e “HotPink” ”***\n",
        "   \n",
        "1. Faça modificações similares para permitir que o usuário mude a cor da tartaruga durante a execução do programa.\n",
        "   1. Faça o mesmo para a largura da caneta da tartaruga. *Dica: seu diálogo com o usuário retornará uma string, mas o método ```pensize``` ( ```width``` no Google Colab) espera que seu argumento seja um **int**. Então, você precisará converter a **string** em um **int** antes de passá-la para **pensize**.*   \n",
        "   \n",
        "1. Investiguem os métodos e atributos do módulo ```turtle```  (```ColabTurtle``` no Google Colab);\n",
        "\n",
        "1. Desenhe um quadrado, usando a forma de tartaruga, ao invés da flecha, para desenhar (caso esteja no Google Colab, não precisa mudar a forma).\n",
        "   1. mude a velocidade com que a tartaruga faz o desenho.\n",
        "   \n",
        "1. Sabendo que o ângulo interno da ponta de uma estrela de 5 pontas é de 36 graus, desenhe uma estrela.\n",
        "![title](https://github.com/malbouis/Python_intro/blob/master/aulas_2019/pics/estrela.png?raw=1)\n",
        "\n",
        "1. Sabendo o ângulo interno da ponta de uma estrela, desenhe quatro estrelas em uma janela, com uma certa distância entre elas. Dica: use a função penup() e pendown() do módulo ```turtle```."
      ]
    },
    {
      "cell_type": "markdown",
      "metadata": {
        "id": "DZXmIVJAKyYj"
      },
      "source": [
        "### Exercícios em preparação para os próximos capítulos\n",
        "\n",
        "1. Escreva uma função chamada `square`, que toma um parâmetro `t`, que é uma `ColabTurtle`. Essa função deve usar o `ColabTurtle` para desenhar um quadrado. Escreva uma chamada de função que passe `joana` como argumento para `square` e rode o programa novamente. \n",
        "\n",
        "1. Adicione um outro parâmetro, chamado `length`, à função `square`. Modifique o corpo da função de tal forma que o comprimento dos lados do quadrado seja `length` e então modifique a chamada da função para que seja passado o segundo argumento. Rode o programa novamente. Teste o seu programa com diversos valores para `length`.\n",
        "\n",
        "1. Faça uma cópia da função `square` e mude o nome para `polygon`. Adicione um outro parâmetro chamado `n` e modifique o corpo da função para que ela desenhe um polígono regular de `n` lados. Dica: Os ângulos externos de um polígono regular de `n` lados são de `360/n` graus.  \n",
        "\n",
        "1. Escreva uma função chamada `circle` que toma como argumento uma `Turtle`, `t`, e um raio, `r`, e desenha um círculo aproximado ao chamar a função `polygon` com `length` e número `n` de lados apropriados. Teste sua função com um intervalo de valores de `r`. Dica: Determine a circunferência do círculo e se certifique que `comprimento * n = circunferência`.\n",
        "\n",
        "1. Faça uma versão mais geral da função `circle`, chamada `arc`, que toma um parâmetro adicional, `angle`, que determina qual a fração do circulo a ser desenhada. `angle` está em unidades de graus, logo quando `angle=360`, a função `arc` deve desenhar um cículo completo.\n"
      ]
    },
    {
      "cell_type": "markdown",
      "metadata": {
        "id": "U2ZwwCUHKyYk"
      },
      "source": [
        "## Encapsulamento \n",
        "O primeiro exercício pede que você coloque seu código de desenho de um quadrado em uma definição de função, p.ex.  ```square (t)```,  e então chame a função, passando a tartaruga como um parâmetro.  Uma possível solução :\n"
      ]
    },
    {
      "cell_type": "code",
      "metadata": {
        "id": "ylGo4t_mKyYk"
      },
      "source": [
        "def square(t):\n",
        "  for i in range(4):\n",
        "        t.forward(100)\n",
        "        t.left(90)        "
      ],
      "execution_count": null,
      "outputs": []
    },
    {
      "cell_type": "markdown",
      "metadata": {
        "id": "G00txOeoKyYo"
      },
      "source": [
        "Se chamarmos ```square(joana)``` as instruções internas da função são executadas pela tartaruga joana, mas também poderiam ser executadas por qualquer objeto tartaruga, a idéia de escrever a função é justamente que ```t``` pode ser qualquer tartaruga.  Então podemos criar uma segunda tartaruga e passá-la como argumento para a função ```square``` :"
      ]
    },
    {
      "cell_type": "code",
      "metadata": {
        "id": "-iJw6WNIKyYq"
      },
      "source": [
        "import ColabTurtle\n",
        "alice = ColabTurtle.Turtle\n",
        "alice.initializeTurtle()\n",
        "square (alice)"
      ],
      "execution_count": null,
      "outputs": []
    },
    {
      "cell_type": "markdown",
      "metadata": {
        "id": "r3oUUZLkKyY0"
      },
      "source": [
        "Envolver um pedaço de código em uma função é chamado de __encapsulamento__. Um dos benefícios do encapsulamento é que ele anexa um nome ao código, que serve como um tipo de documentação. Outra vantagem é que, se você reutilizar o código, é mais conciso chamar uma função duas vezes do que copiar e colar o corpo!"
      ]
    },
    {
      "cell_type": "markdown",
      "metadata": {
        "id": "BlElmskDKyY1"
      },
      "source": [
        "## Generalização\n",
        "O próximo passo é adicionar um parâmetro de comprimento à função ```square```. Uma possibilidade:"
      ]
    },
    {
      "cell_type": "code",
      "metadata": {
        "id": "YeFQAfaEKyY2"
      },
      "source": [
        "def square(t,length):\n",
        "    for i in range(4):\n",
        "        t.forward(length)\n",
        "        t.left(90)\n",
        "\n",
        "alice.initializeTurtle()\n",
        "square(alice,50)"
      ],
      "execution_count": null,
      "outputs": []
    },
    {
      "cell_type": "markdown",
      "metadata": {
        "id": "8MmLoqUDKyY5"
      },
      "source": [
        "Adicionar um (ou mais) parâmetro(s) a uma função é chamado de __generalização__, pois torna a função mais geral: \n",
        "* na versão anterior, o quadrado é sempre do mesmo tamanho; \n",
        "* nesta versão pode ser de qualquer tamanho.\n",
        "\n",
        "O próximo passo é também uma generalização: \n",
        "* Em vez de desenhar só quadrados, a função ```polygon``` desenha polígonos regulares com qualquer número de lados. \n",
        "\n",
        "Aqui está uma solução:"
      ]
    },
    {
      "cell_type": "code",
      "metadata": {
        "id": "6UUiyQiAKyY6"
      },
      "source": [
        "def polygon(t,length,n):\n",
        "    alfa = 360/n\n",
        "    for i in range(n):\n",
        "        t.forward(length)\n",
        "        t.left(alfa)\n",
        "#desenhar um hexagono regular com lado de comprimento 70\n",
        "alice.initializeTurtle()\n",
        "polygon(alice, 70, 6)\n",
        "#polygon(alice, 30, 20)\n",
        "#alice.speed(10)\n",
        "#polygon(alice,10,100)"
      ],
      "execution_count": null,
      "outputs": []
    },
    {
      "cell_type": "markdown",
      "metadata": {
        "id": "yOREP_wHKyY8"
      },
      "source": [
        "Quando uma função tem mais do que alguns argumentos numéricos, é fácil esquecer o que eles são, ou em que ordem eles devem estar. Nesse caso, é sempre uma boa idéia incluir os nomes dos parâmetros na lista de argumentos ao chamar a função:\n",
        "```\n",
        "polygon (bob, n = 7, length = 70)\n",
        "```\n",
        "\n",
        "Eles são chamados de argumentos de palavras-chave (___keyword___) porque incluem os nomes de parâmetros como “palavras-chave” (não confundir com palavras-chave do Python como ```while``` e ```def``` ).\n",
        "\n",
        "Essa sintaxe torna o programa mais legível. Também é um lembrete sobre como os argumentos e parâmetros funcionam: **quando você chama uma função, os argumentos são atribuídos aos parâmetros**."
      ]
    },
    {
      "cell_type": "markdown",
      "metadata": {
        "id": "6IDqjSAUKyY-"
      },
      "source": [
        "##  Design de interface\n",
        "O próximo passo é escrever um círculo , que usa um raio ```r``` como parâmetro. Aqui está uma solução simples que usa a função ```polygon``` para desenhar um polígono de 50 lados:"
      ]
    },
    {
      "cell_type": "code",
      "metadata": {
        "id": "IuKzJX9gKyY_"
      },
      "source": [
        "import math \n",
        "def circle(t, r): \n",
        "    circumference = 2 * math.pi * r  \n",
        "    n = 50 \n",
        "    length = int(circumference / n )        # circumference = n*length\n",
        "    polygon(t, length, n)"
      ],
      "execution_count": null,
      "outputs": []
    },
    {
      "cell_type": "code",
      "metadata": {
        "id": "Lmy-_e8bUPA4"
      },
      "source": [
        "alice.initializeTurtle()\n",
        "alice.speed(10)\n",
        "circle(alice, 50)"
      ],
      "execution_count": null,
      "outputs": []
    },
    {
      "cell_type": "markdown",
      "metadata": {
        "id": "zyCR32tSKyZC"
      },
      "source": [
        "A primeira linha calcula a circunferência de um círculo com raio ```r``` usando a fórmula 2 $\\pi$ r . Como usamos math.pi , temos que importar matemática. Por convenção, as instruções de importação geralmente estão no início do script.\n",
        "\n",
        "```n``` é o número de segmentos de linha em nossa aproximação de um círculo, então ```length``` é o comprimento de cada segmento. Assim, a função ```polygon``` desenha um polígono de 50 lados que se aproxima de um círculo com raio r.\n",
        "\n",
        "Uma limitação dessa solução é que ```n``` é uma constante, o que significa que, para círculos muito grandes, os segmentos de linha são muito longos e, para círculos pequenos, perdemos tempo desenhando segmentos muito pequenos. Uma solução seria generalizar a função usando ```n``` como parâmetro. Isso daria ao usuário (quem chama a função) mais controle, mas a interface seria menos limpa.\n",
        "\n",
        "A __interface__ de uma função é um ___resumo___ de como ela é usada: \n",
        "* quais são os parâmetros? \n",
        "* O que a função faz? \n",
        "* E qual é o valor de retorno? \n",
        "\n",
        "Uma interface é dita “limpa” se permite que o chamador faça o que quiser sem lidar com detalhes desnecessários.\n",
        "\n",
        "Neste exemplo, ```r``` pertence à interface porque especifica o círculo a ser desenhado, mas ```n``` é menos apropriado porque se refere aos detalhes de como o círculo deve ser renderizado. Em vez de sobrecarregar a interface, é melhor escolher um valor apropriado de ```n``` dependendo da circunferência :"
      ]
    },
    {
      "cell_type": "code",
      "metadata": {
        "id": "IOhHK9TnKyZC"
      },
      "source": [
        "def circle(t, r): \n",
        "    circumference = 2 * math.pi * r \n",
        "    n = int(circumference / 3) + 3  # adicionar 3 garante que tenhamos pelo menos 3 lados. \n",
        "    length = int(circumference / n ) \n",
        "    polygon(t, length ,n)\n"
      ],
      "execution_count": null,
      "outputs": []
    },
    {
      "cell_type": "code",
      "metadata": {
        "id": "ELMQ3VOEUcZp"
      },
      "source": [
        "alice.initializeTurtle()\n",
        "alice.speed(10)\n",
        "circle(alice,40)"
      ],
      "execution_count": null,
      "outputs": []
    },
    {
      "cell_type": "markdown",
      "metadata": {
        "id": "1Ik6K7X0KyZG"
      },
      "source": [
        "## Documentação da função: docstring\n",
        "\n",
        "Uma **docstring** é uma string no início de uma função que explica a interface (“doc” é a abreviação de “documentation”). Aqui está um exemplo:"
      ]
    },
    {
      "cell_type": "code",
      "metadata": {
        "id": "gv36vrIWKyZH"
      },
      "source": [
        "def polyline(t, n, length, angle):\n",
        "    \"\"\"Draws n line segments with the given length and\n",
        "    angle (in degrees) between them.  t is a turtle.\n",
        "    \"\"\"    \n",
        "    for i in range(n):\n",
        "        t.forward(int(length))\n",
        "        t.left(angle)"
      ],
      "execution_count": null,
      "outputs": []
    },
    {
      "cell_type": "markdown",
      "metadata": {
        "id": "FxOLbahYKyZJ"
      },
      "source": [
        "Por convenção, todas as docstrings são strings de aspas triplas. Elas aspas triplas permitem que a string abranja mais de uma linha.\n",
        "\n",
        "É conciso, mas contém as informações essenciais que alguém precisaria para usar essa função. Explica de forma concisa o que a função faz (sem entrar nos detalhes de como ela faz isso). Explica o efeito que cada parâmetro tem sobre o comportamento da função e qual o tipo de parâmetro deve ser (se não for óbvio).\n",
        "\n",
        "Escrever esse tipo de documentação é uma parte importante do design da interface. Uma interface bem projetada deve ser simples de explicar; \n",
        "* Se você tiver dificuldade em explicar uma de suas funções, talvez a interface possa ser melhorada.\n",
        "\n",
        "## Refatoração\n",
        "O  processo de reorganizar um programa para melhorar as interfaces e facilitar a reutilização de código é chamado de __refatoração__ (_refactoring_ em inglês).  \n",
        "A função ```polyline``` acima é uma forma de refatorizar, utilizando ela é possível reescrever por exemplo a função do ```polygon``` como:\n"
      ]
    },
    {
      "cell_type": "code",
      "metadata": {
        "id": "1iBukOn6KyZK"
      },
      "source": [
        "def polygon(t, n, length): \n",
        "    angle = 360.0 / n \n",
        "    polyline(t, n, length, angle) \n"
      ],
      "execution_count": null,
      "outputs": []
    },
    {
      "cell_type": "markdown",
      "metadata": {
        "id": "fNCdkIXPKyZM"
      },
      "source": [
        "`Polyline` desenha só uma sequencia uniforme de `n` linhas e  `n` giros para um comprimento e ângulos definidos. Ela também pode ser utilizada para redefinir o arco:"
      ]
    },
    {
      "cell_type": "code",
      "metadata": {
        "id": "1Wkb-o3yKyZM"
      },
      "source": [
        "def arc(t, r, angle):\n",
        "    arc_length = 2 * math.pi * r * angle / 360\n",
        "    n = int(arc_length / 3) + 1 \n",
        "    step_length = arc_length / n \n",
        "    step_angle = float(angle) / n \n",
        "    polyline(t, n, step_length, step_angle)"
      ],
      "execution_count": null,
      "outputs": []
    },
    {
      "cell_type": "markdown",
      "metadata": {
        "id": "Gm3NyrCKKyZP"
      },
      "source": [
        "De forma que uma nova versão do círculo seria definida simplesmente:"
      ]
    },
    {
      "cell_type": "code",
      "metadata": {
        "id": "aUWpc-ysKyZP"
      },
      "source": [
        "def circle(t, r): \n",
        "    arc(t, r, 360)\n",
        "    \n",
        "#desenhar um circulo vermelho de raio 50\n",
        "alice.initializeTurtle()\n",
        "alice.speed(10)\n",
        "alice.color(\"red\")\n",
        "circle(alice,50)"
      ],
      "execution_count": null,
      "outputs": []
    },
    {
      "cell_type": "markdown",
      "metadata": {
        "id": "NsJ6R0HDgBGh"
      },
      "source": [
        "## Exercícios - Parte 1:\n",
        "1. [**Não é possível fazer no Google Colab. Faça no trinket!**] Imprima o tipo de objeto que é uma tartaruga.\n",
        "1. [**Não é possível fazer no Google Colab. Faça no trinket!**] Modifique o programa da tartaruga (primeiro exemplo) para que, antes de criar a janela, ele solicite que o usuário insira a cor de fundo desejada. Ele deve armazenar as respostas do usuário em uma variável e modificar a cor da janela de acordo com os desejos do usuário. \n",
        "   * ***Dicas***: faça uso da função ***input***, built-in do python\n",
        "   * você pode encontrar uma lista de nomes de cores permitidos em http://www.tcl.tk/man/tcl8.4/TkCmd/colors.htm. Inclui alguns bem incomuns, como “peach puff” e “HotPink” ”***\n",
        "   \n",
        "1. Faça modificações similares para permitir que o usuário mude a cor da tartaruga durante a execução do programa.\n",
        "   1. Faça o mesmo para a largura da caneta da tartaruga. *Dica: seu diálogo com o usuário retornará uma string, mas o método ```pensize``` ( ```width``` no Google Colab) espera que seu argumento seja um **int**. Então, você precisará converter a **string** em um **int** antes de passá-la para **pensize**.*   \n",
        "   \n",
        "1. Investiguem os métodos e atributos do módulo ```turtle```  (```ColabTurtle``` no Google Colab);\n",
        "\n",
        "1. Desenhe um quadrado, usando a forma de tartaruga, ao invés da flecha, para desenhar (***caso esteja no Google Colab, não precisa mudar a forma***).\n",
        "   1. mude a velocidade com que a tartaruga faz o desenho.\n",
        "   \n",
        "1. Sabendo que o ângulo interno da ponta de uma estrela de 5 pontas é de 36 graus, desenhe uma estrela.\n",
        "![title](https://github.com/malbouis/Python_intro/blob/master/aulas_2019/pics/estrela.png?raw=1)\n",
        "\n",
        "1. Sabendo o ângulo interno da ponta de uma estrela, desenhe quatro estrelas em uma janela, com uma certa distância entre elas. Dica: use a função penup() e pendown() do módulo ```turtle```."
      ]
    },
    {
      "cell_type": "markdown",
      "metadata": {
        "id": "Nrky4VThKyZS"
      },
      "source": [
        "## Exercícios - Parte 2:\n",
        "  \n",
        "1. Escreva um conjunto apropriadamente geral de funções que possam desenhar flores como na Figura abaixo:\n",
        "![flowers](https://github.com/malbouis/Python_intro/blob/master/aulas_2019/pics/flowers.png?raw=1)\n",
        "1. Escreva um conjunto apropriadamente geral de funções que podem desenhar formas como na figura:\n",
        "![shapes](https://github.com/malbouis/Python_intro/blob/master/aulas_2019/pics/shapes_turtle.png?raw=1)\n",
        "Veja mais exercícios em: http://greenteapress.com/thinkpython2/html/thinkpython2005.html#sec42\n",
        "e: http://dfnae.fis.uerj.br/twiki/bin/view/DFNAE/IntroPython#Aula_6\n",
        "\n",
        "1. Adicione instruções para desenhar o talo e folha da flor. Faça a refatoração apropriada para a interface da flor completa ficar \"limpa\".\n",
        "1. As letras do alfabeto podem ser construídas a partir de um número moderado de elementos básicos, como linhas verticais e horizontais e algumas curvas. Projete um alfabeto que possa ser desenhado com um número mínimo de elementos básicos e depois escreva funções que desenhem as letras.\n",
        "   1. Você deve escrever uma função para cada letra, com os nomes ```draw_a_```, ```_draw_b_```, etc., e colocar suas funções em um arquivo chamado ```letters.py```. Você pode baixar uma “turtle typewriter” de http://thinkpython2.com/code/typewriter.py para ajudá-lo a testar seu código.\n",
        "   1. Você pode obter uma solução em http://thinkpython2.com/code/letters.py; também requer http://thinkpython2.com/code/polygon.py.\n",
        "1. Leia sobre espirais em http://en.wikipedia.org/wiki/Spiral; em seguida, escreva um programa que desenhe uma espiral arquimediana (ou um dos outros tipos). Solução: http://thinkpython2.com/code/spiral.py."
      ]
    }
  ]
}