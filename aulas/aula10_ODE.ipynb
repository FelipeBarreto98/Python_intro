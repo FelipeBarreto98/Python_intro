{
  "nbformat": 4,
  "nbformat_minor": 0,
  "metadata": {
    "kernelspec": {
      "display_name": "Python 3",
      "language": "python",
      "name": "python3"
    },
    "language_info": {
      "codemirror_mode": {
        "name": "ipython",
        "version": 3
      },
      "file_extension": ".py",
      "mimetype": "text/x-python",
      "name": "python",
      "nbconvert_exporter": "python",
      "pygments_lexer": "ipython3",
      "version": "3.7.0"
    },
    "colab": {
      "name": "aula10_ODE.ipynb",
      "provenance": [],
      "collapsed_sections": [],
      "include_colab_link": true
    }
  },
  "cells": [
    {
      "cell_type": "markdown",
      "metadata": {
        "id": "view-in-github",
        "colab_type": "text"
      },
      "source": [
        "<a href=\"https://colab.research.google.com/github/malbouis/Python_intro/blob/master/aulas/aula10_ODE.ipynb\" target=\"_parent\"><img src=\"https://colab.research.google.com/assets/colab-badge.svg\" alt=\"Open In Colab\"/></a>"
      ]
    },
    {
      "cell_type": "markdown",
      "metadata": {
        "id": "ek0aPbb2gkU3"
      },
      "source": [
        "# Integração e análise numérica\n",
        "\n",
        "A integração numérica é composta por uma ampla gama de algoritmos para calcular o valor numérico de uma integral definida. \n",
        "\n",
        "O termo também é usado para se referir a métodos numéricos para determinar a solução de equações diferenciais ordinárias (ODEs), que veremos na próxima aula.\n",
        "\n",
        "## Soma de Riemann\n",
        "\n",
        "Podemos estimar a integral acima com uma **soma de Riemann**, que é um tipo de aproximação de uma integral, por uma soma finita.\n",
        "\n",
        "A soma de Riemann é calculada particionando-se a região de integração em ***formas*** \"pequenas\" (retângulos, trapezóides, parábolas, cubos) que somadas compõem uma região que é similar à função sendo medida. Ao calcular-se a área de cada uma dessa formas e ao adicionar cada uma dessas pequenas áreas, obtém-se a integral. Essa abordagem pode ser usada para encontrar uma aproximação númerica de uma integral definida.\n",
        "\n",
        "\n",
        "### Definição de soma de Riemann\n",
        "\n",
        "Considerando-se uma função $f$ definida no intervalo fechado $[a,b] \\in \\mathbb{R}$, a soma de Riemann é:\n",
        "\n",
        "<br><br>\n",
        "<p align=center>$S  = \\sum_{i=1}^{n} f(x_i^*)\\Delta_{x_i}$ </p>\n",
        "<br><br>\n",
        "\n",
        "onde $\\Delta_{x_i} = x_{i} - x_{i-1}$ e $x_i^* \\in [x_{i-1}, x_i]$  \n",
        "<br>\n",
        "\n",
        "Ao determinarmos a escolha de $x_i^*$, determinamos o tipo de soma de Riemann.\n",
        "\n",
        "Alguns exemplos de métodos de integração de Riemann são:\n",
        "* **Soma de Riemann pela esquerda**: quando $x_i^* = x_{i-1} \\; \\forall \\;i$ (para todos os intervalos);\n",
        "* **Soma de Riemann pela direita**: quando $x_i^* = x_{i} \\; \\forall \\;i$ ;\n",
        "* **Soma trapezoidal**.\n",
        "\n",
        "<br>\n",
        "<font color='blue'>Soma de Riemann pela esquerda:</font>\n",
        "\n",
        "\n",
        "![](https://upload.wikimedia.org/wikipedia/commons/c/c9/LeftRiemann2.svg)\n",
        "\n",
        "\n",
        "<br>\n",
        "<font color='orange'>Soma de Riemann pela direita;</font>\n",
        "\n",
        "![](https://upload.wikimedia.org/wikipedia/commons/4/45/RightRiemann2.svg)\n",
        "\n",
        "<br>\n",
        "<font color='magenta'>Soma de Riemann trapezoidal;</font>\n",
        "\n",
        "![](https://upload.wikimedia.org/wikipedia/commons/7/76/TrapRiemann2.svg)\n",
        "\n",
        "<br><br>\n",
        "**Vejamos um exemplo de soma de Riemann abaixo.**\n",
        "\n"
      ]
    },
    {
      "cell_type": "markdown",
      "metadata": {
        "id": "EHuDaVmzeyw9"
      },
      "source": [
        "\n",
        "Imaginemos um problema simples de integração, com resultado analítico, como a exponencial:\n",
        "\n",
        "$f(x) = \\mathrm{e}^{-x}  \\Rightarrow \\qquad \\int ^{10}_{0} f(x)dx = -1* \\left(\\mathrm{e}^{-10} - \\mathrm{e}^{0}\\right)  = 0.9999546000702375$\n"
      ]
    },
    {
      "cell_type": "code",
      "metadata": {
        "id": "-wtmX-ebeyw-",
        "outputId": "b31833cb-8ee7-4457-e4f4-b1bd0d4cfc1f",
        "colab": {
          "base_uri": "https://localhost:8080/",
          "height": 34
        }
      },
      "source": [
        "import math\n",
        "math.exp(0)-math.exp(-10)\n"
      ],
      "execution_count": 1,
      "outputs": [
        {
          "output_type": "execute_result",
          "data": {
            "text/plain": [
              "0.9999546000702375"
            ]
          },
          "metadata": {
            "tags": []
          },
          "execution_count": 1
        }
      ]
    },
    {
      "cell_type": "markdown",
      "metadata": {
        "id": "hjY4mriGeyxE"
      },
      "source": [
        "Ao fazer uma  integração numérica da função f(x), a largura escolhida do intervalo pode influenciar na precisão do resultado. Nesse mesmo exemplo anterior, por exemplo, se decidirmos usar intervalos de largura $1$."
      ]
    },
    {
      "cell_type": "code",
      "metadata": {
        "id": "Ng3WvOCheyxF",
        "outputId": "21be7cef-5539-4bff-c5e7-fc78edc6d68f",
        "colab": {
          "base_uri": "https://localhost:8080/",
          "height": 71
        }
      },
      "source": [
        "x=range(0,10)\n",
        "y=[math.exp(-xi) for xi in x]  # isto se chama \"list comprehension\"\n",
        "print(x)\n",
        "print(y)"
      ],
      "execution_count": 11,
      "outputs": [
        {
          "output_type": "stream",
          "text": [
            "range(0, 10)\n",
            "[1.0, 0.36787944117144233, 0.1353352832366127, 0.049787068367863944, 0.01831563888873418, 0.006737946999085467, 0.0024787521766663585, 0.0009118819655545162, 0.00033546262790251185, 0.00012340980408667956]\n"
          ],
          "name": "stdout"
        }
      ]
    },
    {
      "cell_type": "code",
      "metadata": {
        "id": "aG8OEh1aeyxK",
        "outputId": "78cccf60-b7c2-445a-e64e-773ec4923853",
        "colab": {
          "base_uri": "https://localhost:8080/",
          "height": 265
        }
      },
      "source": [
        "import matplotlib.pyplot as plt\n",
        "import numpy as np\n",
        "plt.bar(x,y,color=\"red\",align=\"edge\",width=1)\n",
        "x1 = np.linspace(0,10, 1000) # intervalo de 0 a 10, com 1000 divisões\n",
        "y1=[math.exp(-xi) for xi in x1]\n",
        "plt.plot(x1,y1)\n",
        "plt.show()"
      ],
      "execution_count": 12,
      "outputs": [
        {
          "output_type": "display_data",
          "data": {
            "image/png": "[encoded data removed]",
            "text/plain": [
              "<Figure size 432x288 with 1 Axes>"
            ]
          },
          "metadata": {
            "tags": [],
            "needs_background": "light"
          }
        }
      ]
    },
    {
      "cell_type": "markdown",
      "metadata": {
        "id": "Maa5TOtdeyxQ"
      },
      "source": [
        "* Os retângulos acima representam a soma de Riemann pela esquerda ou direita? \n",
        "\n",
        "* Se fizermos a soma de Riemann dos retângulos acima, o resultado deveria ser __maior__ ou __menor__ do que a integral analítica? "
      ]
    },
    {
      "cell_type": "code",
      "metadata": {
        "id": "knxQbtUieyxR",
        "outputId": "c506b467-5d2b-44ea-8de1-47e67d06a2e5",
        "colab": {
          "base_uri": "https://localhost:8080/",
          "height": 34
        }
      },
      "source": [
        "x_i = 0\n",
        "x_f = 10\n",
        "dx = 1\n",
        "x = np.arange(x_i,x_f,dx)\n",
        "S = 0\n",
        "for xi in x:\n",
        "    S = S+ math.exp(-xi)*dx # *dx que e 1 nesse caso\n",
        "    \n",
        "print(\"Soma de 10 caixinhas= \",S)"
      ],
      "execution_count": 45,
      "outputs": [
        {
          "output_type": "stream",
          "text": [
            "Soma de 10 caixinhas=  1.5819048852379485\n"
          ],
          "name": "stdout"
        }
      ]
    },
    {
      "cell_type": "code",
      "metadata": {
        "id": "yvpElBUpeyxU",
        "outputId": "27dab7a4-7fc8-40ff-cc91-3ee37dbd9b43",
        "colab": {
          "base_uri": "https://localhost:8080/",
          "height": 34
        }
      },
      "source": [
        "x_i = 0\n",
        "x_f = 10\n",
        "dx = 0.01\n",
        "n_steps = round((x_f - x_i)/dx)\n",
        "\n",
        "x = np.arange(x_i,x_f,dx)\n",
        "\n",
        "S1= 0\n",
        "for xi in x:\n",
        "    S1 = S1+ math.exp(-xi) * dx\n",
        "\n",
        "print(f\"Soma de {n_steps} caixinhas = \",S1)"
      ],
      "execution_count": 49,
      "outputs": [
        {
          "output_type": "stream",
          "text": [
            "Soma de 1000 caixinhas =  1.0049627060117017\n"
          ],
          "name": "stdout"
        }
      ]
    },
    {
      "cell_type": "markdown",
      "metadata": {
        "id": "zz8ch5fReyxZ"
      },
      "source": [
        "## Exercícios\n",
        "\n",
        "1. Quantos intervalos (ou qual largura de intervalo) é preciso implementar para ter uma precisão de 1% no resultado numérico na integração de $f(x)$ de 0 a 10? \n",
        "\n",
        "$\\dfrac{R_{num}-R_{an}}{R_{an}} \\leq 10\\% $\n",
        "\n",
        "2. Faça a integração numérica pela esquerda da mesma função. Compare o resultado com a integração pela direita.\n",
        "\n",
        "3. Faça a integração por trapézios. Lembre que a área de um trapézio é dada por: $A=\\frac{(a + b)h}{2}$\n",
        "\n",
        "3. Faça a integração numérica das funções trigonométricas $\\sin(x)$ e $\\cos(x)$ num período $0 < x \\leq 2\\pi$\n",
        "\n",
        "4. Faça a integração das funções hiperbólicas  $\\sinh(x)$ e $\\cosh(x)$ no intervalo $0-10$."
      ]
    },
    {
      "cell_type": "code",
      "metadata": {
        "id": "TpEjSHNGeyxa",
        "outputId": "7cdf789f-0b37-4258-dc81-11ef380d7e62"
      },
      "source": [
        "sh = [math.sinh(xi) for xi in x1]\n",
        "plt.plot(x1,sh)\n",
        "plt.show()"
      ],
      "execution_count": null,
      "outputs": [
        {
          "output_type": "display_data",
          "data": {
            "image/png": "[encoded data removed]",
            "text/plain": [
              "<Figure size 432x288 with 1 Axes>"
            ]
          },
          "metadata": {
            "tags": [],
            "needs_background": "light"
          }
        }
      ]
    },
    {
      "cell_type": "markdown",
      "metadata": {
        "id": "6UKLyVZ7eyxe"
      },
      "source": [
        "### Exercícios extras de resolução numérica de equações diferenciais\n",
        "\n",
        "1. Imagine que tem um/a maratonista treinando, que num trecho de $5 km$ tem velocidade quase constante de $12 km/h$. Produza uma lista distância percorrida em intervalos de 1 minuto.\n",
        "\n",
        "1. O/A mesmo/a atleta no seguinte trecho acelera por $200$ metros até chegar em $15 km/h$ por $2 km$. Queremos obter uma tabela ou gráfico da distância percorrida en função do tempo e o tempo total para chegar em $7 km$, faça isto utilizando listas.\n",
        "\n",
        "1. Considere um péndulo simples num plano. O comprimento da linha é $1$ metro, a massa é $0,2 kg$ e a aceleração de gravidade $9,8 m/s^2$. Faça um gráfico ou crie uma tabela para a posição em coordenadas cartesianas em função do tempo, utilizando listas.\n",
        "\n",
        "\n",
        "- (opcional) Pesquise sobre o pacote numpy e os objetos desse pacote chamados array, tente utilizálos ao invés de listas para resolver os exercícios.\n",
        "\n",
        "- (opcional) Pesquise sobre o pacote scipy e seu modulo integrate para resolver integrações ou equações diferenciais numéricamente.\n"
      ]
    },
    {
      "cell_type": "markdown",
      "metadata": {
        "id": "5jtFSZnpP9AV"
      },
      "source": [
        ""
      ]
    }
  ]
}