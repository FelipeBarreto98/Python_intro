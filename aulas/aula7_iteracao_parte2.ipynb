{
  "nbformat": 4,
  "nbformat_minor": 0,
  "metadata": {
    "kernelspec": {
      "display_name": "Python 3",
      "language": "python",
      "name": "python3"
    },
    "language_info": {
      "codemirror_mode": {
        "name": "ipython",
        "version": 3
      },
      "file_extension": ".py",
      "mimetype": "text/x-python",
      "name": "python",
      "nbconvert_exporter": "python",
      "pygments_lexer": "ipython3",
      "version": "3.6.4"
    },
    "colab": {
      "name": "aula7_iteracao_parte2.ipynb",
      "provenance": [],
      "collapsed_sections": [],
      "include_colab_link": true
    }
  },
  "cells": [
    {
      "cell_type": "markdown",
      "metadata": {
        "id": "view-in-github",
        "colab_type": "text"
      },
      "source": [
        "<a href=\"https://colab.research.google.com/github/malbouis/Python_intro/blob/master/aulas/aula7_iteracao_parte2.ipynb\" target=\"_parent\"><img src=\"https://colab.research.google.com/assets/colab-badge.svg\" alt=\"Open In Colab\"/></a>"
      ]
    },
    {
      "cell_type": "markdown",
      "metadata": {
        "id": "g57JkpcxvFEm"
      },
      "source": [
        "# Iteração (continuação)\n",
        "\n",
        "Vimos até aqui:\n",
        "* Atualização de variável;\n",
        "* Loop `for`: iteração definida;\n",
        "* Loop `while`: iteração indefinida;\n",
        "* Declarações `break` e `continue`.\n",
        "\n",
        "Hoje daremos continuade ao capítulo sobre Iteração. Veremos:\n",
        "* Condicionais encadeadas;\n",
        "* Condicionais aninhadas;\n",
        "* Recursividade."
      ]
    },
    {
      "cell_type": "markdown",
      "metadata": {
        "id": "FgWCGjFutXk_"
      },
      "source": [
        "## Condicionais encadeadas\n",
        "\n",
        "Às vezes há mais de duas possibilidades e precisamos de mais de dois ramos. Uma maneira de expressar uma computação assim é uma condicional encadeada:"
      ]
    },
    {
      "cell_type": "code",
      "metadata": {
        "id": "HBQWvewotXlB"
      },
      "source": [
        "x = 2\n",
        "y = 10"
      ],
      "execution_count": null,
      "outputs": []
    },
    {
      "cell_type": "code",
      "metadata": {
        "id": "bsiD9gWPtXlG",
        "outputId": "2ac79368-72d5-4570-fbd6-9119f052696d"
      },
      "source": [
        "if x < y:\n",
        "    print('x is less than y')\n",
        "elif x > y:\n",
        "    print('x is greater than y')\n",
        "else:\n",
        "    print('x and y are equal')"
      ],
      "execution_count": null,
      "outputs": [
        {
          "output_type": "stream",
          "text": [
            "x is less than y\n"
          ],
          "name": "stdout"
        }
      ]
    },
    {
      "cell_type": "markdown",
      "metadata": {
        "id": "bYQdXIQntXlO"
      },
      "source": [
        "```elif``` é uma abreviação de “else if”. Mais uma vez, exatamente um ramo será executado. Não há limite no número de instruções ```elif```. Se houver uma cláusula else, ela precisa estar no final, mas não precisa haver uma obrigatoriamente."
      ]
    },
    {
      "cell_type": "code",
      "metadata": {
        "id": "tO6q2-pptXlP"
      },
      "source": [
        "if choice == 'a':\n",
        "    draw_a()\n",
        "elif choice == 'b':\n",
        "    draw_b()\n",
        "elif choice == 'c':\n",
        "    draw_c()"
      ],
      "execution_count": null,
      "outputs": []
    },
    {
      "cell_type": "markdown",
      "metadata": {
        "id": "3sWUC6S1tXlS"
      },
      "source": [
        "Cada condição é verificada em ordem:\n",
        "   * Se o primeiro é falso, o próximo é verificado e assim por diante. \n",
        "   * Se uma delas for verdadeira, o ramo correspondente será executado e a instrução será finalizada. \n",
        "   * **Mesmo se mais de uma condição for verdadeira, somente a primeira ramificação verdadeira será executada.**"
      ]
    },
    {
      "cell_type": "markdown",
      "metadata": {
        "id": "wwDF9HtZtXlT"
      },
      "source": [
        "## Condicionais aninhadas\n",
        "Uma condicional também pode ser aninhada dentro de outra. Poderíamos ter escrito o exemplo na seção anterior desta forma:"
      ]
    },
    {
      "cell_type": "code",
      "metadata": {
        "id": "G1SbSFa2tXlT",
        "outputId": "b5477644-0997-4fd0-d2d2-f7da91c0373e"
      },
      "source": [
        "if x == y:\n",
        "    print('x and y are equal')\n",
        "else:\n",
        "    if x < y:\n",
        "        print('x is less than y')\n",
        "    else:\n",
        "        print('x is greater than y')"
      ],
      "execution_count": null,
      "outputs": [
        {
          "output_type": "stream",
          "text": [
            "x is less than y\n"
          ],
          "name": "stdout"
        }
      ]
    },
    {
      "cell_type": "markdown",
      "metadata": {
        "id": "IaE8JcIztXlX"
      },
      "source": [
        "* A condicional exterior contém dois ramos. \n",
        "* O primeiro ramo contém uma instrução simples. \n",
        "    * O segundo ramo contém outra instrução ```if```, \n",
        "       * que tem outros dois ramos próprios. Esses dois ramos são instruções simples, embora pudessem ser instruções condicionais também.\n",
        "\n",
        "Embora a endentação das instruções evidencie a estrutura das condicionais, condicionais aninhadas se tornam rapidamente  difíceis de ler. ***É uma boa ideia evitá-las quando for possível***.\n",
        "\n",
        "**Operadores lógicos** muitas vezes oferecem uma forma de **simplificar** instruções condicionais aninhadas. Por exemplo, podemos reescrever o seguinte código usando uma única condicional:"
      ]
    },
    {
      "cell_type": "code",
      "metadata": {
        "id": "TZjkQjmBtXlY",
        "outputId": "1ef5b2a7-77bd-4f14-ac00-ec6f64b1e95f"
      },
      "source": [
        "if 0 < x:\n",
        "    if x < 10:\n",
        "        print('x is a positive single-digit number.')"
      ],
      "execution_count": null,
      "outputs": [
        {
          "output_type": "stream",
          "text": [
            "x is a positive single-digit number.\n"
          ],
          "name": "stdout"
        }
      ]
    },
    {
      "cell_type": "markdown",
      "metadata": {
        "id": "_vJ8EthLtXlb"
      },
      "source": [
        "A instrução ```print``` só é executada se a colocarmos depois de ambas as condicionais, então podemos obter o mesmo efeito com o operador ```and```:"
      ]
    },
    {
      "cell_type": "code",
      "metadata": {
        "id": "gaeRI2bKtXlc",
        "outputId": "e65b6b91-c3ee-45f6-d4fe-3d7b050e00df"
      },
      "source": [
        "if 0 < x and x < 10:\n",
        "    print('x is a positive single-digit number.')"
      ],
      "execution_count": null,
      "outputs": [
        {
          "output_type": "stream",
          "text": [
            "x is a positive single-digit number.\n"
          ],
          "name": "stdout"
        }
      ]
    },
    {
      "cell_type": "markdown",
      "metadata": {
        "id": "J3UE8UggtXlh"
      },
      "source": [
        "Para este tipo de condição, o Python oferece uma opção mais concisa:"
      ]
    },
    {
      "cell_type": "code",
      "metadata": {
        "id": "w5SDK7VftXli",
        "outputId": "19e8f345-cd09-40c6-b950-2b9e0b42408c"
      },
      "source": [
        "if 0 < x < 10:\n",
        "    print('x is a positive single-digit number.')"
      ],
      "execution_count": null,
      "outputs": [
        {
          "output_type": "stream",
          "text": [
            "x is a positive single-digit number.\n"
          ],
          "name": "stdout"
        }
      ]
    },
    {
      "cell_type": "markdown",
      "metadata": {
        "id": "Tkn24MH2tXlm"
      },
      "source": [
        "## Recursividade\n",
        "É legal para uma função chamar outra; também é legal para **uma função chamar a si própria**. Pode não ser óbvio por que isso é uma coisa boa, mas na verdade é uma das coisas mais mágicas que um programa pode fazer. Por exemplo, veja a seguinte função:"
      ]
    },
    {
      "cell_type": "code",
      "metadata": {
        "id": "F4dXm0VJtXln"
      },
      "source": [
        "def countdown(n):\n",
        "    if n <= 0:\n",
        "        print('GRANDE EXPLOSÃO!!!!')\n",
        "    else:\n",
        "        print(n)\n",
        "        countdown(n-1)"
      ],
      "execution_count": 2,
      "outputs": []
    },
    {
      "cell_type": "markdown",
      "metadata": {
        "id": "wuYq3s5etXlq"
      },
      "source": [
        "Se n for 0 ou negativo, a frase GRANDE EXPLOSÃO!!!!” é exibida. Senão, a saída é n e então a função countdown é chamada – por si mesma – passando n-1 como argumento.\n",
        "\n",
        "O que acontece se chamarmos esta função assim?"
      ]
    },
    {
      "cell_type": "code",
      "metadata": {
        "id": "VcCNlSkttXlq",
        "outputId": "29c39240-e57d-42dd-a0b0-48c67a335c24",
        "colab": {
          "base_uri": "https://localhost:8080/",
          "height": 85
        }
      },
      "source": [
        "countdown(3)"
      ],
      "execution_count": 5,
      "outputs": [
        {
          "output_type": "stream",
          "text": [
            "3\n",
            "2\n",
            "1\n",
            "GRANDE EXPLOSÃO!!!!\n"
          ],
          "name": "stdout"
        }
      ]
    },
    {
      "cell_type": "markdown",
      "metadata": {
        "id": "HG8X1A0QtXlu"
      },
      "source": [
        "A execução de countdown inicia com n=3 e como n é maior que 0, ela produz o valor 3 e então chama a si mesma…\n",
        "\n",
        "    A execução de countdown inicia com n=2 e como n é maior que 0, ela produz o valor 2 e então chama a si mesma…\n",
        "\n",
        "        A execução de countdown inicia com n=1 e como n é maior que 0, ela produz o valor 1 e então chama a si mesma…\n",
        "\n",
        "            A execução de countdown inicia com n=0 e como n não é maior que 0, ela produz a palavra “Blastoff!” e então retorna.\n",
        "\n",
        "        O countdown que recebeu n=1 retorna.\n",
        "\n",
        "    O countdown que recebeu n=2 retorna.\n",
        "\n",
        "O countdown que recebeu n=3 retorna.\n",
        "\n",
        "E então você está de volta ao __main__."
      ]
    },
    {
      "cell_type": "markdown",
      "metadata": {
        "id": "Ib1yrnGttXlv"
      },
      "source": [
        "Uma função que chama a si mesma é dita recursiva; o processo para executá-la é a recursividade.\n",
        "\n",
        "Como em outro exemplo, podemos escrever uma função que exiba uma string n vezes:"
      ]
    },
    {
      "cell_type": "code",
      "metadata": {
        "id": "hMVkevHztXlw"
      },
      "source": [
        "def print_n(s, n):\n",
        "    if n <= 0:\n",
        "        return\n",
        "    print(s)\n",
        "    print_n(s, n-1)"
      ],
      "execution_count": null,
      "outputs": []
    },
    {
      "cell_type": "code",
      "metadata": {
        "id": "Z0gNqXIutXlz",
        "outputId": "93aba44a-4dce-40ae-eb51-3b7b943ab1a8"
      },
      "source": [
        "print_n(\"Oi\", 3)"
      ],
      "execution_count": null,
      "outputs": [
        {
          "output_type": "stream",
          "text": [
            "Oi\n",
            "Oi\n",
            "Oi\n"
          ],
          "name": "stdout"
        }
      ]
    },
    {
      "cell_type": "markdown",
      "metadata": {
        "id": "-zAlm_O1tXl3"
      },
      "source": [
        "Se n <= 0 a instrução return causa a saída da função. O fluxo de execução volta imediatamente a quem fez a chamada, e as linhas restantes da função não são executadas.\n",
        "\n",
        "O resto da função é similar à countdown: ela mostra s e então chama a si mesma para mostrar s mais n-1 vezes. Então o número de linhas da saída é 1 + (n - 1), até chegar a n.\n",
        "\n",
        "Para exemplos simples como esse, provavelmente é mais fácil usar um loop for. Mais adiante veremos exemplos que são difíceis de escrever com um loop for e fáceis de escrever com recursividade, então é bom começar cedo."
      ]
    },
    {
      "cell_type": "markdown",
      "metadata": {
        "id": "ukcGc6MUtXl4"
      },
      "source": [
        "## Exercícios\n",
        "https://penseallen.github.io/PensePython2e/05-cond-recur.html\n",
        "\n",
        "1. O módulo time fornece uma função, também chamada time, que devolve a Hora Média de Greenwich na “época”, que é um momento arbitrário usado como ponto de referência. Em sistemas UNIX, a época é primeiro de janeiro de 1970."
      ]
    },
    {
      "cell_type": "code",
      "metadata": {
        "id": "_vNAy-wRtXl5",
        "outputId": "7d1b226e-6751-4f41-9593-733e97529ae8",
        "colab": {
          "base_uri": "https://localhost:8080/",
          "height": 34
        }
      },
      "source": [
        "import time\n",
        "time.time()"
      ],
      "execution_count": 6,
      "outputs": [
        {
          "output_type": "execute_result",
          "data": {
            "text/plain": [
              "1602811885.2674031"
            ]
          },
          "metadata": {
            "tags": []
          },
          "execution_count": 6
        }
      ]
    },
    {
      "cell_type": "markdown",
      "metadata": {
        "id": "6PCPU7YnCYZV"
      },
      "source": [
        "Escreva um script que leia a hora atual e a converta em um tempo em horas, minutos e segundos, mais o número de dias desde a época."
      ]
    },
    {
      "cell_type": "markdown",
      "metadata": {
        "id": "0GPsuxs0CZ2f"
      },
      "source": [
        "2. O último teorema de Fermat diz que não existem números inteiros a, b e c tais que `a**n + b**n == c**n` para quaisquer valores de n maiores que 2.\n",
        "   1. Escreva uma função chamada `check_fermat` que receba quatro parâmetros – a, b, c e n – e verifique se o teorema de Fermat se mantém. Se n for maior que 2 e `a**n + b**n == c**n` o programa deve imprimir, “Holy smokes, Fermat was wrong!” Senão o programa deve exibir “No, that doesn’t work.”\n",
        "   1. Escreva uma função que peça ao usuário para digitar valores para a, b, c e n, os converta em números inteiros e use `check_fermat` para verificar se violam o teorema de Fermat."
      ]
    },
    {
      "cell_type": "markdown",
      "metadata": {
        "id": "Ccx6RkOjCoG0"
      },
      "source": [
        "3. Há um teste simples para ver se é possível formar um triângulo para quaisquer três comprimentos: Se algum dos três comprimentos for maior que a soma dos outros dois, então você não pode formar um triângulo. Senão, você pode. (Se a soma de dois comprimentos igualar o terceiro, eles formam um triângulo chamado “degenerado”.)\n",
        "   1. Escreva uma função chamada `is_triangle` que receba três números inteiros como argumentos, e que imprima “Yes” ou “No”, dependendo da possibilidade de formar ou não um triângulo de gravetos com os comprimentos dados.\n",
        "   1. Escreva uma função que peça ao usuário para digitar três comprimentos de gravetos, os converta em números inteiros e use `is_triangle` para verificar se os gravetos com os comprimentos dados podem formar um triângulo."
      ]
    },
    {
      "cell_type": "markdown",
      "metadata": {
        "id": "y_tsQq67C73t"
      },
      "source": [
        "4. Leia a próxima função e veja se consegue compreender o que ela faz (veja os exemplos no Capítulo 4). Então execute-a e veja se acertou."
      ]
    },
    {
      "cell_type": "code",
      "metadata": {
        "id": "p1LUrtA2C99E"
      },
      "source": [
        "def draw(t, length, n):\n",
        "    if n == 0:\n",
        "        return\n",
        "    angle = 50\n",
        "    t.forward(length * n)\n",
        "    t.left(angle)\n",
        "    draw(t, length, n-1)\n",
        "    t.right(2 * angle)\n",
        "    draw(t, length, n-1)\n",
        "    t.left(angle)\n",
        "    t.backward(length * n)"
      ],
      "execution_count": 7,
      "outputs": []
    },
    {
      "cell_type": "markdown",
      "metadata": {
        "id": "WpeZVhIBElfQ"
      },
      "source": [
        "A curva de Koch é um fractal que parece com o da Figura abaixo. \n",
        "![](https://github.com/PenseAllen/PensePython2e/raw/master/fig/tnkp_0502.png)\n",
        "\n",
        "Para desenhar uma curva de Koch com o comprimento x, tudo o que você tem que fazer é:\n",
        "\n",
        "1. Desenhe uma curva de Koch com o comprimento x/3.\n",
        "\n",
        "1. Vire 60 graus à esquerda.\n",
        "\n",
        "1. Desenhe uma curva de Koch com o comprimento x/3.\n",
        "\n",
        "1. Vire 120 graus à direita.\n",
        "\n",
        "1. Desenhe uma curva de Koch com o comprimento x/3.\n",
        "\n",
        "1. Vire 60 graus à esquerda.\n",
        "\n",
        "1. Desenhe uma curva de Koch com o comprimento x/3.\n",
        "\n",
        "\n",
        "A exceção é se x for menor que 3: neste caso, você pode desenhar apenas uma linha reta com o comprimento x.\n",
        "\n",
        "1. Escreva uma função chamada `koch` que receba um `ColabTurtle` (ou turtle) e um comprimento como parâmetros, e use o `ColabTurtle` para desenhar uma curva de Koch com o comprimento dado.\n",
        "\n",
        "1. Escreva uma função chamada `snowflake` que desenhe três curvas de Koch para fazer o traçado de um floco de neve.\n",
        "\n",
        "1. A curva de Koch pode ser generalizada de vários modos. Veja exemplos em http://en.wikipedia.org/wiki/Koch_snowflake e implemente o seu favorito."
      ]
    }
  ]
}